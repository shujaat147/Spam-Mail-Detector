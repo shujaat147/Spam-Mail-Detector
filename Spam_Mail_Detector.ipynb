{
 "cells": [
  {
   "cell_type": "markdown",
   "metadata": {},
   "source": [
    "Importing the Dependencies"
   ]
  },
  {
   "cell_type": "code",
   "metadata": {
    "vscode": {
     "languageId": "plaintext"
    },
    "ExecuteTime": {
     "end_time": "2024-06-27T10:12:01.664580Z",
     "start_time": "2024-06-27T10:12:01.603461Z"
    }
   },
   "source": [
    "import numpy as np\n",
    "import pandas as pd\n",
    "import matplotlib.pyplot as plt\n",
    "import seaborn as sns\n",
    "from sklearn.model_selection import train_test_split\n",
    "from sklearn.feature_extraction.text import TfidfVectorizer\n",
    "from sklearn.linear_model import LogisticRegression\n",
    "from sklearn.metrics import accuracy_score, precision_score, recall_score, f1_score, confusion_matrix, roc_curve, auc"
   ],
   "outputs": [],
   "execution_count": 156
  },
  {
   "cell_type": "markdown",
   "metadata": {},
   "source": [
    "Data Collection & Pre-Processing"
   ]
  },
  {
   "cell_type": "code",
   "metadata": {
    "vscode": {
     "languageId": "plaintext"
    },
    "ExecuteTime": {
     "end_time": "2024-06-27T10:12:02.281407Z",
     "start_time": "2024-06-27T10:12:01.986331Z"
    }
   },
   "source": [
    "# loading the data from csv file to a pandas Dataframe\n",
    "raw_mail_data = pd.read_excel('./final_2.xlsx')\n",
    "\n",
    "# Remove \\n and \\r from the 'Message' column\n",
    "raw_mail_data['Message'] = raw_mail_data['Message'].str.replace('\\n', ' ').str.replace('\\r', ' ')"
   ],
   "outputs": [],
   "execution_count": 157
  },
  {
   "cell_type": "code",
   "metadata": {
    "vscode": {
     "languageId": "plaintext"
    },
    "ExecuteTime": {
     "end_time": "2024-06-27T10:12:02.304473Z",
     "start_time": "2024-06-27T10:12:02.281407Z"
    }
   },
   "source": [
    "print(raw_mail_data)"
   ],
   "outputs": [
    {
     "name": "stdout",
     "output_type": "stream",
     "text": [
      "       Category                                            Message\n",
      "0    Legitimate   in an effort to better organize the activitie...\n",
      "1          Spam  hi , we sent you an email a while ago , becaus...\n",
      "2          Spam  enjoy lowpriced m = eds as our customer rx med...\n",
      "3    Legitimate   attached is a updated memo about transition i...\n",
      "4          Spam  searching for best adult datlng slte ? click h...\n",
      "..          ...                                                ...\n",
      "995  Legitimate   here are the cashout entries for 7 / 00 and 8...\n",
      "996  Legitimate   Hamza , please see eog ' s july nomination . ...\n",
      "997  Legitimate   hi guys ,_x000D_ please take a look at the fo...\n",
      "998        Spam   hello , i sent you an email a few days ago be...\n",
      "999        Spam   cheap prices on valium * * * get your medicat...\n",
      "\n",
      "[1000 rows x 2 columns]\n"
     ]
    }
   ],
   "execution_count": 158
  },
  {
   "cell_type": "code",
   "metadata": {
    "vscode": {
     "languageId": "plaintext"
    },
    "ExecuteTime": {
     "end_time": "2024-06-27T10:12:02.338255Z",
     "start_time": "2024-06-27T10:12:02.306484Z"
    }
   },
   "source": [
    "# replace the null values with a null string\n",
    "mail_data = raw_mail_data.where((pd.notnull(raw_mail_data)),'')"
   ],
   "outputs": [],
   "execution_count": 159
  },
  {
   "cell_type": "code",
   "metadata": {
    "vscode": {
     "languageId": "plaintext"
    },
    "ExecuteTime": {
     "end_time": "2024-06-27T10:12:02.362409Z",
     "start_time": "2024-06-27T10:12:02.338255Z"
    }
   },
   "source": [
    "# printing the first 5 rows of the dataframe\n",
    "mail_data.head()"
   ],
   "outputs": [
    {
     "data": {
      "text/plain": [
       "     Category                                            Message\n",
       "0  Legitimate   in an effort to better organize the activitie...\n",
       "1        Spam  hi , we sent you an email a while ago , becaus...\n",
       "2        Spam  enjoy lowpriced m = eds as our customer rx med...\n",
       "3  Legitimate   attached is a updated memo about transition i...\n",
       "4        Spam  searching for best adult datlng slte ? click h..."
      ],
      "text/html": [
       "<div>\n",
       "<style scoped>\n",
       "    .dataframe tbody tr th:only-of-type {\n",
       "        vertical-align: middle;\n",
       "    }\n",
       "\n",
       "    .dataframe tbody tr th {\n",
       "        vertical-align: top;\n",
       "    }\n",
       "\n",
       "    .dataframe thead th {\n",
       "        text-align: right;\n",
       "    }\n",
       "</style>\n",
       "<table border=\"1\" class=\"dataframe\">\n",
       "  <thead>\n",
       "    <tr style=\"text-align: right;\">\n",
       "      <th></th>\n",
       "      <th>Category</th>\n",
       "      <th>Message</th>\n",
       "    </tr>\n",
       "  </thead>\n",
       "  <tbody>\n",
       "    <tr>\n",
       "      <th>0</th>\n",
       "      <td>Legitimate</td>\n",
       "      <td>in an effort to better organize the activitie...</td>\n",
       "    </tr>\n",
       "    <tr>\n",
       "      <th>1</th>\n",
       "      <td>Spam</td>\n",
       "      <td>hi , we sent you an email a while ago , becaus...</td>\n",
       "    </tr>\n",
       "    <tr>\n",
       "      <th>2</th>\n",
       "      <td>Spam</td>\n",
       "      <td>enjoy lowpriced m = eds as our customer rx med...</td>\n",
       "    </tr>\n",
       "    <tr>\n",
       "      <th>3</th>\n",
       "      <td>Legitimate</td>\n",
       "      <td>attached is a updated memo about transition i...</td>\n",
       "    </tr>\n",
       "    <tr>\n",
       "      <th>4</th>\n",
       "      <td>Spam</td>\n",
       "      <td>searching for best adult datlng slte ? click h...</td>\n",
       "    </tr>\n",
       "  </tbody>\n",
       "</table>\n",
       "</div>"
      ]
     },
     "execution_count": 160,
     "metadata": {},
     "output_type": "execute_result"
    }
   ],
   "execution_count": 160
  },
  {
   "cell_type": "code",
   "metadata": {
    "vscode": {
     "languageId": "plaintext"
    },
    "ExecuteTime": {
     "end_time": "2024-06-27T10:12:02.388493Z",
     "start_time": "2024-06-27T10:12:02.362409Z"
    }
   },
   "source": [
    "# checking the number of rows and columns in the dataframe\n",
    "mail_data.shape"
   ],
   "outputs": [
    {
     "data": {
      "text/plain": [
       "(1000, 2)"
      ]
     },
     "execution_count": 161,
     "metadata": {},
     "output_type": "execute_result"
    }
   ],
   "execution_count": 161
  },
  {
   "cell_type": "code",
   "metadata": {
    "vscode": {
     "languageId": "plaintext"
    },
    "ExecuteTime": {
     "end_time": "2024-06-27T10:12:02.408666Z",
     "start_time": "2024-06-27T10:12:02.388493Z"
    }
   },
   "source": [
    "# label Spam mail as 0;  Legitimate mail as 1;\n",
    "\n",
    "mail_data.loc[mail_data['Category'] == 'Spam', 'Category',] = 0\n",
    "mail_data.loc[mail_data['Category'] == 'Legitimate', 'Category',] = 1"
   ],
   "outputs": [],
   "execution_count": 162
  },
  {
   "cell_type": "markdown",
   "metadata": {},
   "source": [
    "Spam  -  0\n",
    "\n",
    "Legitimate  -  1"
   ]
  },
  {
   "cell_type": "code",
   "metadata": {
    "vscode": {
     "languageId": "plaintext"
    },
    "ExecuteTime": {
     "end_time": "2024-06-27T10:12:02.720563Z",
     "start_time": "2024-06-27T10:12:02.408666Z"
    }
   },
   "source": [
    "# Visualize the distribution of Spam vs Legitimate emails\n",
    "plt.figure(figsize=(6,4))\n",
    "sns.countplot(mail_data['Category'])\n",
    "plt.title('Distribution of Spam vs Legitimate Emails')\n",
    "plt.xlabel('Category')\n",
    "plt.ylabel('Count')\n",
    "plt.show()"
   ],
   "outputs": [
    {
     "data": {
      "text/plain": [
       "<Figure size 600x400 with 1 Axes>"
      ],
      "image/png": "[encoded data removed]"
     },
     "metadata": {},
     "output_type": "display_data"
    }
   ],
   "execution_count": 163
  },
  {
   "cell_type": "code",
   "metadata": {
    "vscode": {
     "languageId": "plaintext"
    },
    "ExecuteTime": {
     "end_time": "2024-06-27T10:12:02.735917Z",
     "start_time": "2024-06-27T10:12:02.720563Z"
    }
   },
   "source": [
    "# separating the data as texts and label\n",
    "\n",
    "X = mail_data['Message']\n",
    "\n",
    "Y = mail_data['Category']"
   ],
   "outputs": [],
   "execution_count": 164
  },
  {
   "cell_type": "code",
   "metadata": {
    "vscode": {
     "languageId": "plaintext"
    },
    "ExecuteTime": {
     "end_time": "2024-06-27T10:12:02.758319Z",
     "start_time": "2024-06-27T10:12:02.735917Z"
    }
   },
   "source": [
    "print(X)"
   ],
   "outputs": [
    {
     "name": "stdout",
     "output_type": "stream",
     "text": [
      "0       in an effort to better organize the activitie...\n",
      "1      hi , we sent you an email a while ago , becaus...\n",
      "2      enjoy lowpriced m = eds as our customer rx med...\n",
      "3       attached is a updated memo about transition i...\n",
      "4      searching for best adult datlng slte ? click h...\n",
      "                             ...                        \n",
      "995     here are the cashout entries for 7 / 00 and 8...\n",
      "996     Hamza , please see eog ' s july nomination . ...\n",
      "997     hi guys ,_x000D_ please take a look at the fo...\n",
      "998     hello , i sent you an email a few days ago be...\n",
      "999     cheap prices on valium * * * get your medicat...\n",
      "Name: Message, Length: 1000, dtype: object\n"
     ]
    }
   ],
   "execution_count": 165
  },
  {
   "cell_type": "code",
   "metadata": {
    "vscode": {
     "languageId": "plaintext"
    },
    "ExecuteTime": {
     "end_time": "2024-06-27T10:12:02.777879Z",
     "start_time": "2024-06-27T10:12:02.760826Z"
    }
   },
   "source": [
    "print(Y)"
   ],
   "outputs": [
    {
     "name": "stdout",
     "output_type": "stream",
     "text": [
      "0      1\n",
      "1      0\n",
      "2      0\n",
      "3      1\n",
      "4      0\n",
      "      ..\n",
      "995    1\n",
      "996    1\n",
      "997    1\n",
      "998    0\n",
      "999    0\n",
      "Name: Category, Length: 1000, dtype: object\n"
     ]
    }
   ],
   "execution_count": 166
  },
  {
   "cell_type": "markdown",
   "metadata": {},
   "source": [
    "Splitting the data into training data & test data"
   ]
  },
  {
   "cell_type": "code",
   "metadata": {
    "vscode": {
     "languageId": "plaintext"
    },
    "ExecuteTime": {
     "end_time": "2024-06-27T10:12:02.801535Z",
     "start_time": "2024-06-27T10:12:02.777879Z"
    }
   },
   "source": [
    "X_train, X_test, Y_train, Y_test = train_test_split(X, Y, test_size=0.2, random_state=3)"
   ],
   "outputs": [],
   "execution_count": 167
  },
  {
   "cell_type": "code",
   "metadata": {
    "vscode": {
     "languageId": "plaintext"
    },
    "ExecuteTime": {
     "end_time": "2024-06-27T10:12:02.814979Z",
     "start_time": "2024-06-27T10:12:02.801535Z"
    }
   },
   "source": [
    "print(X.shape)\n",
    "print(X_train.shape)\n",
    "print(X_test.shape)"
   ],
   "outputs": [
    {
     "name": "stdout",
     "output_type": "stream",
     "text": [
      "(1000,)\n",
      "(800,)\n",
      "(200,)\n"
     ]
    }
   ],
   "execution_count": 168
  },
  {
   "cell_type": "markdown",
   "metadata": {},
   "source": [
    "Feature Extraction"
   ]
  },
  {
   "cell_type": "code",
   "metadata": {
    "vscode": {
     "languageId": "plaintext"
    },
    "ExecuteTime": {
     "end_time": "2024-06-27T10:12:03.041096Z",
     "start_time": "2024-06-27T10:12:02.814979Z"
    }
   },
   "source": [
    "# transform the text data to feature vectors that can be used as input to the Logistic regression\n",
    "\n",
    "feature_extraction = TfidfVectorizer(min_df=1, stop_words='english', lowercase=True)\n",
    "\n",
    "X_train_features = feature_extraction.fit_transform(X_train)\n",
    "X_test_features = feature_extraction.transform(X_test)\n",
    "\n",
    "# convert Y_train and Y_test values to integers\n",
    "Y_train = Y_train.astype('int')\n",
    "Y_test = Y_test.astype('int')"
   ],
   "outputs": [],
   "execution_count": 169
  },
  {
   "cell_type": "code",
   "metadata": {
    "vscode": {
     "languageId": "plaintext"
    },
    "ExecuteTime": {
     "end_time": "2024-06-27T10:12:03.055973Z",
     "start_time": "2024-06-27T10:12:03.043106Z"
    }
   },
   "source": [
    "print(X_train)"
   ],
   "outputs": [
    {
     "name": "stdout",
     "output_type": "stream",
     "text": [
      "78      no deal for march or april 2000 . . . . . . ....\n",
      "109     aqtdaibnuf jmxdzjdyjskm noyrhrcsltyiyc yfcgqh...\n",
      "201     let ' s face it , age should be nothing more ...\n",
      "465     i may need more assiAlice on this issue . i t...\n",
      "143    off . shorejph . armacy - dishnow 4 openhto 3 ...\n",
      "                             ...                        \n",
      "952     is this date really june of 1999 ? hopefully ...\n",
      "643     sorry i ' m just now getting back to you . he...\n",
      "249      we are starting to collect data for april . ...\n",
      "664     Hamza , go ahead and aept the nom revision . ...\n",
      "874     this is a great dating site ! ! ! please remo...\n",
      "Name: Message, Length: 800, dtype: object\n"
     ]
    }
   ],
   "execution_count": 170
  },
  {
   "cell_type": "code",
   "metadata": {
    "vscode": {
     "languageId": "plaintext"
    },
    "ExecuteTime": {
     "end_time": "2024-06-27T10:12:03.091735Z",
     "start_time": "2024-06-27T10:12:03.074623Z"
    }
   },
   "source": [
    "print(X_train_features)"
   ],
   "outputs": [
    {
     "name": "stdout",
     "output_type": "stream",
     "text": [
      "  (0, 4130)\t0.17631892865780707\n",
      "  (0, 16208)\t0.08104210762523949\n",
      "  (0, 1162)\t0.17970997214395604\n",
      "  (0, 8055)\t0.08453974762029041\n",
      "  (0, 12530)\t0.20918333428036515\n",
      "  (0, 14822)\t0.14030271892847127\n",
      "  (0, 8066)\t0.18844820293965217\n",
      "  (0, 4357)\t0.20918333428036515\n",
      "  (0, 11292)\t0.09846084313084591\n",
      "  (0, 13861)\t0.164189654375962\n",
      "  (0, 940)\t0.20918333428036515\n",
      "  (0, 5594)\t0.19705405999852005\n",
      "  (0, 4994)\t0.11114928268655383\n",
      "  (0, 327)\t0.19705405999852005\n",
      "  (0, 7461)\t0.15318936204703168\n",
      "  (0, 5565)\t0.09883245624704531\n",
      "  (0, 82)\t0.11604417036478111\n",
      "  (0, 1220)\t0.20918333428036515\n",
      "  (0, 2476)\t0.20918333428036515\n",
      "  (0, 5755)\t0.3815776633125919\n",
      "  (0, 7701)\t0.14890857598733914\n",
      "  (0, 507)\t0.20918333428036515\n",
      "  (0, 16433)\t0.12110199936328414\n",
      "  (0, 9352)\t0.18844820293965217\n",
      "  (0, 7699)\t0.12624280891751324\n",
      "  :\t:\n",
      "  (799, 3429)\t0.12336097845977179\n",
      "  (799, 3105)\t0.12336097845977179\n",
      "  (799, 14606)\t0.12336097845977179\n",
      "  (799, 11732)\t0.12336097845977179\n",
      "  (799, 3844)\t0.12336097845977179\n",
      "  (799, 17126)\t0.11797348759926961\n",
      "  (799, 4436)\t0.12336097845977179\n",
      "  (799, 5007)\t0.12336097845977179\n",
      "  (799, 8975)\t0.12336097845977179\n",
      "  (799, 12723)\t0.11797348759926961\n",
      "  (799, 15928)\t0.11797348759926961\n",
      "  (799, 8079)\t0.11038024570703661\n",
      "  (799, 4207)\t0.1074934291194345\n",
      "  (799, 9447)\t0.10499275484653443\n",
      "  (799, 15170)\t0.12336097845977179\n",
      "  (799, 5190)\t0.11379462503393958\n",
      "  (799, 12543)\t0.12336097845977179\n",
      "  (799, 6275)\t0.11379462503393958\n",
      "  (799, 15148)\t0.07845502114187897\n",
      "  (799, 5551)\t0.10499275484653443\n",
      "  (799, 14817)\t0.10081389228120441\n",
      "  (799, 6303)\t0.09590053405594376\n",
      "  (799, 8427)\t0.07631243117767375\n",
      "  (799, 14067)\t0.08365429696313921\n",
      "  (799, 10625)\t0.07631243117767375\n"
     ]
    }
   ],
   "execution_count": 171
  },
  {
   "cell_type": "markdown",
   "metadata": {},
   "source": [
    "Training the Model"
   ]
  },
  {
   "cell_type": "markdown",
   "metadata": {},
   "source": [
    "Logistic Regression"
   ]
  },
  {
   "cell_type": "code",
   "metadata": {
    "vscode": {
     "languageId": "plaintext"
    },
    "ExecuteTime": {
     "end_time": "2024-06-27T10:12:03.263582Z",
     "start_time": "2024-06-27T10:12:03.246599Z"
    }
   },
   "source": [
    "model = LogisticRegression()"
   ],
   "outputs": [],
   "execution_count": 172
  },
  {
   "cell_type": "code",
   "metadata": {
    "vscode": {
     "languageId": "plaintext"
    },
    "ExecuteTime": {
     "end_time": "2024-06-27T10:12:03.580222Z",
     "start_time": "2024-06-27T10:12:03.387470Z"
    }
   },
   "source": [
    "# training the Logistic Regression model with the training data\n",
    "model.fit(X_train_features, Y_train)"
   ],
   "outputs": [
    {
     "data": {
      "text/plain": [
       "LogisticRegression()"
      ],
      "text/html": [
       "<style>#sk-container-id-6 {color: black;background-color: white;}#sk-container-id-6 pre{padding: 0;}#sk-container-id-6 div.sk-toggleable {background-color: white;}#sk-container-id-6 label.sk-toggleable__label {cursor: pointer;display: block;width: 100%;margin-bottom: 0;padding: 0.3em;box-sizing: border-box;text-align: center;}#sk-container-id-6 label.sk-toggleable__label-arrow:before {content: \"▸\";float: left;margin-right: 0.25em;color: #696969;}#sk-container-id-6 label.sk-toggleable__label-arrow:hover:before {color: black;}#sk-container-id-6 div.sk-estimator:hover label.sk-toggleable__label-arrow:before {color: black;}#sk-container-id-6 div.sk-toggleable__content {max-height: 0;max-width: 0;overflow: hidden;text-align: left;background-color: #f0f8ff;}#sk-container-id-6 div.sk-toggleable__content pre {margin: 0.2em;color: black;border-radius: 0.25em;background-color: #f0f8ff;}#sk-container-id-6 input.sk-toggleable__control:checked~div.sk-toggleable__content {max-height: 200px;max-width: 100%;overflow: auto;}#sk-container-id-6 input.sk-toggleable__control:checked~label.sk-toggleable__label-arrow:before {content: \"▾\";}#sk-container-id-6 div.sk-estimator input.sk-toggleable__control:checked~label.sk-toggleable__label {background-color: #d4ebff;}#sk-container-id-6 div.sk-label input.sk-toggleable__control:checked~label.sk-toggleable__label {background-color: #d4ebff;}#sk-container-id-6 input.sk-hidden--visually {border: 0;clip: rect(1px 1px 1px 1px);clip: rect(1px, 1px, 1px, 1px);height: 1px;margin: -1px;overflow: hidden;padding: 0;position: absolute;width: 1px;}#sk-container-id-6 div.sk-estimator {font-family: monospace;background-color: #f0f8ff;border: 1px dotted black;border-radius: 0.25em;box-sizing: border-box;margin-bottom: 0.5em;}#sk-container-id-6 div.sk-estimator:hover {background-color: #d4ebff;}#sk-container-id-6 div.sk-parallel-item::after {content: \"\";width: 100%;border-bottom: 1px solid gray;flex-grow: 1;}#sk-container-id-6 div.sk-label:hover label.sk-toggleable__label {background-color: #d4ebff;}#sk-container-id-6 div.sk-serial::before {content: \"\";position: absolute;border-left: 1px solid gray;box-sizing: border-box;top: 0;bottom: 0;left: 50%;z-index: 0;}#sk-container-id-6 div.sk-serial {display: flex;flex-direction: column;align-items: center;background-color: white;padding-right: 0.2em;padding-left: 0.2em;position: relative;}#sk-container-id-6 div.sk-item {position: relative;z-index: 1;}#sk-container-id-6 div.sk-parallel {display: flex;align-items: stretch;justify-content: center;background-color: white;position: relative;}#sk-container-id-6 div.sk-item::before, #sk-container-id-6 div.sk-parallel-item::before {content: \"\";position: absolute;border-left: 1px solid gray;box-sizing: border-box;top: 0;bottom: 0;left: 50%;z-index: -1;}#sk-container-id-6 div.sk-parallel-item {display: flex;flex-direction: column;z-index: 1;position: relative;background-color: white;}#sk-container-id-6 div.sk-parallel-item:first-child::after {align-self: flex-end;width: 50%;}#sk-container-id-6 div.sk-parallel-item:last-child::after {align-self: flex-start;width: 50%;}#sk-container-id-6 div.sk-parallel-item:only-child::after {width: 0;}#sk-container-id-6 div.sk-dashed-wrapped {border: 1px dashed gray;margin: 0 0.4em 0.5em 0.4em;box-sizing: border-box;padding-bottom: 0.4em;background-color: white;}#sk-container-id-6 div.sk-label label {font-family: monospace;font-weight: bold;display: inline-block;line-height: 1.2em;}#sk-container-id-6 div.sk-label-container {text-align: center;}#sk-container-id-6 div.sk-container {/* jupyter's `normalize.less` sets `[hidden] { display: none; }` but bootstrap.min.css set `[hidden] { display: none !important; }` so we also need the `!important` here to be able to override the default hidden behavior on the sphinx rendered scikit-learn.org. See: https://github.com/scikit-learn/scikit-learn/issues/21755 */display: inline-block !important;position: relative;}#sk-container-id-6 div.sk-text-repr-fallback {display: none;}</style><div id=\"sk-container-id-6\" class=\"sk-top-container\"><div class=\"sk-text-repr-fallback\"><pre>LogisticRegression()</pre><b>In a Jupyter environment, please rerun this cell to show the HTML representation or trust the notebook. <br />On GitHub, the HTML representation is unable to render, please try loading this page with nbviewer.org.</b></div><div class=\"sk-container\" hidden><div class=\"sk-item\"><div class=\"sk-estimator sk-toggleable\"><input class=\"sk-toggleable__control sk-hidden--visually\" id=\"sk-estimator-id-6\" type=\"checkbox\" checked><label for=\"sk-estimator-id-6\" class=\"sk-toggleable__label sk-toggleable__label-arrow\">LogisticRegression</label><div class=\"sk-toggleable__content\"><pre>LogisticRegression()</pre></div></div></div></div></div>"
      ]
     },
     "execution_count": 173,
     "metadata": {},
     "output_type": "execute_result"
    }
   ],
   "execution_count": 173
  },
  {
   "cell_type": "markdown",
   "metadata": {},
   "source": [
    "Evaluating the trained model"
   ]
  },
  {
   "cell_type": "markdown",
   "metadata": {},
   "source": [
    "Prediction on Training data"
   ]
  },
  {
   "cell_type": "code",
   "metadata": {
    "vscode": {
     "languageId": "plaintext"
    },
    "ExecuteTime": {
     "end_time": "2024-06-27T10:12:03.616856Z",
     "start_time": "2024-06-27T10:12:03.590200Z"
    }
   },
   "source": [
    "# prediction on training data\n",
    "\n",
    "prediction_on_training_data = model.predict(X_train_features)\n",
    "accuracy_on_training_data = accuracy_score(Y_train, prediction_on_training_data)\n",
    "precision_on_training_data = precision_score(Y_train, prediction_on_training_data)\n",
    "recall_on_training_data = recall_score(Y_train, prediction_on_training_data)\n",
    "f1_on_training_data = f1_score(Y_train, prediction_on_training_data)"
   ],
   "outputs": [],
   "execution_count": 174
  },
  {
   "cell_type": "code",
   "metadata": {
    "vscode": {
     "languageId": "plaintext"
    },
    "ExecuteTime": {
     "end_time": "2024-06-27T10:12:03.640143Z",
     "start_time": "2024-06-27T10:12:03.616856Z"
    }
   },
   "source": [
    "print('Accuracy on training data : ', accuracy_on_training_data)"
   ],
   "outputs": [
    {
     "name": "stdout",
     "output_type": "stream",
     "text": [
      "Accuracy on training data :  0.99125\n"
     ]
    }
   ],
   "execution_count": 175
  },
  {
   "cell_type": "code",
   "metadata": {
    "vscode": {
     "languageId": "plaintext"
    },
    "ExecuteTime": {
     "end_time": "2024-06-27T10:12:03.666893Z",
     "start_time": "2024-06-27T10:12:03.646649Z"
    }
   },
   "source": [
    "print('Precision on training data:', precision_on_training_data)"
   ],
   "outputs": [
    {
     "name": "stdout",
     "output_type": "stream",
     "text": [
      "Precision on training data: 0.9974619289340102\n"
     ]
    }
   ],
   "execution_count": 176
  },
  {
   "cell_type": "code",
   "metadata": {
    "vscode": {
     "languageId": "plaintext"
    },
    "ExecuteTime": {
     "end_time": "2024-06-27T10:12:03.786349Z",
     "start_time": "2024-06-27T10:12:03.780945Z"
    }
   },
   "source": [
    "print('Recall on training data:', recall_on_training_data)"
   ],
   "outputs": [
    {
     "name": "stdout",
     "output_type": "stream",
     "text": [
      "Recall on training data: 0.9849624060150376\n"
     ]
    }
   ],
   "execution_count": 177
  },
  {
   "cell_type": "markdown",
   "metadata": {
    "vscode": {
     "languageId": "plaintext"
    }
   },
   "source": [
    "print('F1-score on training data:', f1_on_training_data)"
   ]
  },
  {
   "cell_type": "markdown",
   "metadata": {},
   "source": [
    "Prediction on Test data"
   ]
  },
  {
   "cell_type": "code",
   "metadata": {
    "vscode": {
     "languageId": "plaintext"
    },
    "ExecuteTime": {
     "end_time": "2024-06-27T10:12:03.944865Z",
     "start_time": "2024-06-27T10:12:03.923334Z"
    }
   },
   "source": [
    "# prediction on test data\n",
    "prediction_on_test_data = model.predict(X_test_features)\n",
    "accuracy_on_test_data = accuracy_score(Y_test, prediction_on_test_data)\n",
    "precision_on_test_data = precision_score(Y_test, prediction_on_test_data)\n",
    "recall_on_test_data = recall_score(Y_test, prediction_on_test_data)\n",
    "f1_on_test_data = f1_score(Y_test, prediction_on_test_data)"
   ],
   "outputs": [],
   "execution_count": 178
  },
  {
   "cell_type": "code",
   "metadata": {
    "vscode": {
     "languageId": "plaintext"
    },
    "ExecuteTime": {
     "end_time": "2024-06-27T10:12:03.980482Z",
     "start_time": "2024-06-27T10:12:03.961259Z"
    }
   },
   "source": [
    "print('Accuracy on test data : ', accuracy_on_test_data)"
   ],
   "outputs": [
    {
     "name": "stdout",
     "output_type": "stream",
     "text": [
      "Accuracy on test data :  0.96\n"
     ]
    }
   ],
   "execution_count": 179
  },
  {
   "cell_type": "code",
   "metadata": {
    "vscode": {
     "languageId": "plaintext"
    },
    "ExecuteTime": {
     "end_time": "2024-06-27T10:12:04.038571Z",
     "start_time": "2024-06-27T10:12:04.024260Z"
    }
   },
   "source": [
    "print('Precision on test data:', precision_on_test_data)"
   ],
   "outputs": [
    {
     "name": "stdout",
     "output_type": "stream",
     "text": [
      "Precision on test data: 0.9894736842105263\n"
     ]
    }
   ],
   "execution_count": 180
  },
  {
   "cell_type": "code",
   "metadata": {
    "vscode": {
     "languageId": "plaintext"
    },
    "ExecuteTime": {
     "end_time": "2024-06-27T10:12:04.079003Z",
     "start_time": "2024-06-27T10:12:04.072223Z"
    }
   },
   "source": [
    "print('Recall on test data:', recall_on_test_data)"
   ],
   "outputs": [
    {
     "name": "stdout",
     "output_type": "stream",
     "text": [
      "Recall on test data: 0.9306930693069307\n"
     ]
    }
   ],
   "execution_count": 181
  },
  {
   "cell_type": "code",
   "metadata": {
    "vscode": {
     "languageId": "plaintext"
    },
    "ExecuteTime": {
     "end_time": "2024-06-27T10:12:04.133492Z",
     "start_time": "2024-06-27T10:12:04.119325Z"
    }
   },
   "source": [
    "print('F1-score on test data:', f1_on_test_data)"
   ],
   "outputs": [
    {
     "name": "stdout",
     "output_type": "stream",
     "text": [
      "F1-score on test data: 0.9591836734693878\n"
     ]
    }
   ],
   "execution_count": 182
  },
  {
   "cell_type": "markdown",
   "metadata": {},
   "source": [
    "Confusion Matrix"
   ]
  },
  {
   "cell_type": "code",
   "metadata": {
    "vscode": {
     "languageId": "plaintext"
    },
    "ExecuteTime": {
     "end_time": "2024-06-27T10:12:04.470109Z",
     "start_time": "2024-06-27T10:12:04.166251Z"
    }
   },
   "source": [
    "conf_matrix = confusion_matrix(Y_test, prediction_on_test_data)\n",
    "plt.figure(figsize=(6,4))\n",
    "sns.heatmap(conf_matrix, annot=True, fmt='d', cmap='Blues', xticklabels=['Spam', 'Legitimate'], yticklabels=['Spam', 'Legitimate'])\n",
    "plt.title('Confusion Matrix')\n",
    "plt.xlabel('Predicted')\n",
    "plt.ylabel('Actual')\n",
    "plt.show()"
   ],
   "outputs": [
    {
     "data": {
      "text/plain": [
       "<Figure size 600x400 with 2 Axes>"
      ],
      "image/png": "[encoded data removed]"
     },
     "metadata": {},
     "output_type": "display_data"
    }
   ],
   "execution_count": 183
  },
  {
   "cell_type": "markdown",
   "metadata": {},
   "source": [
    "ROC Curve"
   ]
  },
  {
   "cell_type": "code",
   "metadata": {
    "vscode": {
     "languageId": "plaintext"
    },
    "ExecuteTime": {
     "end_time": "2024-06-27T10:12:05.122114Z",
     "start_time": "2024-06-27T10:12:04.470109Z"
    }
   },
   "source": [
    "fpr, tpr, _ = roc_curve(Y_test, model.predict_proba(X_test_features)[:,1])\n",
    "roc_auc = auc(fpr, tpr)\n",
    "plt.figure(figsize=(6,4))\n",
    "plt.plot(fpr, tpr, color='blue', lw=2, label='ROC curve (area = %0.2f)' % roc_auc)\n",
    "plt.plot([0, 1], [0, 1], color='gray', lw=2, linestyle='--')\n",
    "plt.xlim([0.0, 1.0])\n",
    "plt.ylim([0.0, 1.05])\n",
    "plt.xlabel('False Positive Rate')\n",
    "plt.ylabel('True Positive Rate')\n",
    "plt.title('Receiver Operating Characteristic (ROC) Curve')\n",
    "plt.legend(loc=\"lower right\")\n",
    "plt.show()"
   ],
   "outputs": [
    {
     "data": {
      "text/plain": [
       "<Figure size 600x400 with 1 Axes>"
      ],
      "image/png": "[encoded data removed]"
     },
     "metadata": {},
     "output_type": "display_data"
    }
   ],
   "execution_count": 184
  },
  {
   "cell_type": "markdown",
   "metadata": {},
   "source": [
    "Building a Predictive System"
   ]
  },
  {
   "cell_type": "code",
   "metadata": {
    "vscode": {
     "languageId": "plaintext"
    },
    "ExecuteTime": {
     "end_time": "2024-06-27T10:12:05.142707Z",
     "start_time": "2024-06-27T10:12:05.122114Z"
    }
   },
   "source": [
    "input_mail = [\"Hi Sahil ?, Welcome back to Spotify. To complete your login, select the button below on your mobile device. This link is valid for 4 hours. GO TO SPOTIFY\t This link also confirms your email associated with your aount. If you didn’t try to log in to your aount or request this email, don’t worry, your email address may have been entered by mistake. You can simply ignore or delete this email, and use your existing password to log in. Happy listening, The Spotify team \"]\n",
    "\n",
    "# convert text to feature vectors\n",
    "input_data_features = feature_extraction.transform(input_mail)\n",
    "\n",
    "# making prediction\n",
    "\n",
    "prediction = model.predict(input_data_features)\n",
    "print(prediction)\n",
    "\n",
    "\n",
    "if (prediction[0]==1):\n",
    "  print('Legitimate mail')\n",
    "\n",
    "else:\n",
    "  print('Spam mail')"
   ],
   "outputs": [
    {
     "name": "stdout",
     "output_type": "stream",
     "text": [
      "[1]\n",
      "Legitimate mail\n"
     ]
    }
   ],
   "execution_count": 185
  },
  {
   "metadata": {
    "ExecuteTime": {
     "end_time": "2024-06-27T10:12:13.547564Z",
     "start_time": "2024-06-27T10:12:05.144215Z"
    }
   },
   "cell_type": "code",
   "source": [
    "!pip install joblib\n",
    "import joblib\n",
    "# Save the model as a pickle in a file\n",
    "joblib.dump(model, 'saved_model.pkl')\n",
    "\n",
    "# Save the TfidfVectorizer\n",
    "joblib.dump(feature_extraction, 'vectorizer.pkl')"
   ],
   "outputs": [
    {
     "name": "stdout",
     "output_type": "stream",
     "text": [
      "Requirement already satisfied: joblib in c:\\users\\scs\\anaconda3\\lib\\site-packages (1.2.0)\n"
     ]
    },
    {
     "data": {
      "text/plain": [
       "['vectorizer.pkl']"
      ]
     },
     "execution_count": 186,
     "metadata": {},
     "output_type": "execute_result"
    }
   ],
   "execution_count": 186
  }
 ],
 "metadata": {
  "kernelspec": {
   "display_name": "Python 3 (ipykernel)",
   "language": "python",
   "name": "python3"
  },
  "language_info": {
   "codemirror_mode": {
    "name": "ipython",
    "version": 3
   },
   "file_extension": ".py",
   "mimetype": "text/x-python",
   "name": "python",
   "nbconvert_exporter": "python",
   "pygments_lexer": "ipython3",
   "version": "3.11.9"
  }
 },
 "nbformat": 4,
 "nbformat_minor": 4
}
