{
 "cells": [
  {
   "cell_type": "markdown",
   "metadata": {},
   "source": [
    "Importing the Dependencies"
   ]
  },
  {
   "cell_type": "code",
   "execution_count": 1,
   "metadata": {
    "vscode": {
     "languageId": "plaintext"
    }
   },
   "outputs": [],
   "source": [
    "import numpy as np\n",
    "import pandas as pd\n",
    "from sklearn.model_selection import train_test_split\n",
    "from sklearn.feature_extraction.text import TfidfVectorizer\n",
    "from sklearn.linear_model import LogisticRegression\n",
    "from sklearn.metrics import accuracy_score"
   ]
  },
  {
   "cell_type": "markdown",
   "metadata": {},
   "source": [
    "Data Collection & Pre-Processing"
   ]
  },
  {
   "cell_type": "code",
   "execution_count": 2,
   "metadata": {
    "vscode": {
     "languageId": "plaintext"
    }
   },
   "outputs": [],
   "source": [
    "# loading the data from csv file to a pandas Dataframe\n",
    "raw_mail_data = pd.read_csv('./mail_data.csv', encoding='ISO-8859-1')"
   ]
  },
  {
   "cell_type": "code",
   "execution_count": 3,
   "metadata": {
    "vscode": {
     "languageId": "plaintext"
    }
   },
   "outputs": [
    {
     "name": "stdout",
     "output_type": "stream",
     "text": [
      "      Category                                            Message\n",
      "0   legitimate  Go until jurong point, crazy.. Available only ...\n",
      "1   legitimate                      Ok lar... Joking wif u oni...\n",
      "2         spam  Free entry in 2 a wkly comp to win FA Cup fina...\n",
      "3   legitimate  U dun say so early hor... U c already then say...\n",
      "4   legitimate  Nah I don't think he goes to usf, he lives aro...\n",
      "5         spam  FreeMsg Hey there darling it's been 3 week's n...\n",
      "6   legitimate  Even my brother is not like to speak with me. ...\n",
      "7   legitimate  As per your request 'Melle Melle (Oru Minnamin...\n",
      "8         spam  WINNER!! As a valued network customer you have...\n",
      "9         spam  Had your mobile 11 months or more? U R entitle...\n",
      "10  legitimate  I'm gonna be home soon and i don't want to tal...\n",
      "11        spam  SIX chances to win CASH! From 100 to 20,000 po...\n",
      "12        spam  URGENT! You have won a 1 week FREE membership ...\n",
      "13  legitimate  I've been searching for the right words to tha...\n",
      "14  legitimate                I HAVE A DATE ON SUNDAY WITH WILL!!\n",
      "15        spam  XXXMobileMovieClub: To use your credit, click ...\n",
      "16  legitimate                         Oh k...i'm watching here:)\n",
      "17  legitimate  Eh u remember how 2 spell his name... Yes i di...\n",
      "18  legitimate  Fine if that?s the way u feel. That?s the way ...\n",
      "19        spam  England v Macedonia - dont miss the goals/team...\n",
      "20  legitimate          Is that seriously how you spell his name?\n",
      "21  legitimate  Iâm going to try for 2 months ha ha only joking\n",
      "22  legitimate  So Ã¼ pay first lar... Then when is da stock c...\n",
      "23  legitimate  Aft i finish my lunch then i go str down lor. ...\n",
      "24  legitimate  Ffffffffff. Alright no way I can meet up with ...\n",
      "25  legitimate  Just forced myself to eat a slice. I'm really ...\n",
      "26  legitimate                     Lol your always so convincing.\n",
      "27  legitimate  Did you catch the bus ? Are you frying an egg ...\n",
      "28  legitimate  I'm back &amp; we're packing the car now, I'll...\n",
      "29  legitimate  Ahhh. Work. I vaguely remember that! What does...\n",
      "30  legitimate  Wait that's still not all that clear, were you...\n",
      "31  legitimate  Yeah he got in at 2 and was v apologetic. n ha...\n",
      "32  legitimate                      K tell me anything about you.\n",
      "33  legitimate  For fear of fainting with the of all that hous...\n",
      "34        spam  Thanks for your subscription to Ringtone UK yo...\n",
      "35  legitimate  Yup... Ok i go home look at the timings then i...\n",
      "36  legitimate    Oops, I'll let you know when my roommate's done\n",
      "37  legitimate                       I see the letter B on my car\n",
      "38  legitimate                        Anything lor... U decide...\n",
      "39  legitimate  Hello! How's you and how did saturday go? I wa...\n",
      "40  legitimate  Pls go ahead with watts. I just wanted to be s...\n"
     ]
    }
   ],
   "source": [
    "print(raw_mail_data)"
   ]
  },
  {
   "cell_type": "code",
   "execution_count": 4,
   "metadata": {
    "vscode": {
     "languageId": "plaintext"
    }
   },
   "outputs": [],
   "source": [
    "# replace the null values with a null string\n",
    "mail_data = raw_mail_data.where((pd.notnull(raw_mail_data)),'')"
   ]
  },
  {
   "cell_type": "code",
   "execution_count": 5,
   "metadata": {
    "vscode": {
     "languageId": "plaintext"
    }
   },
   "outputs": [
    {
     "data": {
      "text/html": [
       "<div>\n",
       "<style scoped>\n",
       "    .dataframe tbody tr th:only-of-type {\n",
       "        vertical-align: middle;\n",
       "    }\n",
       "\n",
       "    .dataframe tbody tr th {\n",
       "        vertical-align: top;\n",
       "    }\n",
       "\n",
       "    .dataframe thead th {\n",
       "        text-align: right;\n",
       "    }\n",
       "</style>\n",
       "<table border=\"1\" class=\"dataframe\">\n",
       "  <thead>\n",
       "    <tr style=\"text-align: right;\">\n",
       "      <th></th>\n",
       "      <th>Category</th>\n",
       "      <th>Message</th>\n",
       "    </tr>\n",
       "  </thead>\n",
       "  <tbody>\n",
       "    <tr>\n",
       "      <th>0</th>\n",
       "      <td>legitimate</td>\n",
       "      <td>Go until jurong point, crazy.. Available only ...</td>\n",
       "    </tr>\n",
       "    <tr>\n",
       "      <th>1</th>\n",
       "      <td>legitimate</td>\n",
       "      <td>Ok lar... Joking wif u oni...</td>\n",
       "    </tr>\n",
       "    <tr>\n",
       "      <th>2</th>\n",
       "      <td>spam</td>\n",
       "      <td>Free entry in 2 a wkly comp to win FA Cup fina...</td>\n",
       "    </tr>\n",
       "    <tr>\n",
       "      <th>3</th>\n",
       "      <td>legitimate</td>\n",
       "      <td>U dun say so early hor... U c already then say...</td>\n",
       "    </tr>\n",
       "    <tr>\n",
       "      <th>4</th>\n",
       "      <td>legitimate</td>\n",
       "      <td>Nah I don't think he goes to usf, he lives aro...</td>\n",
       "    </tr>\n",
       "  </tbody>\n",
       "</table>\n",
       "</div>"
      ],
      "text/plain": [
       "     Category                                            Message\n",
       "0  legitimate  Go until jurong point, crazy.. Available only ...\n",
       "1  legitimate                      Ok lar... Joking wif u oni...\n",
       "2        spam  Free entry in 2 a wkly comp to win FA Cup fina...\n",
       "3  legitimate  U dun say so early hor... U c already then say...\n",
       "4  legitimate  Nah I don't think he goes to usf, he lives aro..."
      ]
     },
     "execution_count": 5,
     "metadata": {},
     "output_type": "execute_result"
    }
   ],
   "source": [
    "# printing the first 5 rows of the dataframe\n",
    "mail_data.head()"
   ]
  },
  {
   "cell_type": "code",
   "execution_count": 6,
   "metadata": {
    "vscode": {
     "languageId": "plaintext"
    }
   },
   "outputs": [
    {
     "data": {
      "text/plain": [
       "(41, 2)"
      ]
     },
     "execution_count": 6,
     "metadata": {},
     "output_type": "execute_result"
    }
   ],
   "source": [
    "# checking the number of rows and columns in the dataframe\n",
    "mail_data.shape"
   ]
  },
  {
   "cell_type": "code",
   "execution_count": 7,
   "metadata": {
    "vscode": {
     "languageId": "plaintext"
    }
   },
   "outputs": [],
   "source": [
    "# label spam mail as 0;  legitimate mail as 1;\n",
    "\n",
    "mail_data.loc[mail_data['Category'] == 'spam', 'Category',] = 0\n",
    "mail_data.loc[mail_data['Category'] == 'legitimate', 'Category',] = 1"
   ]
  },
  {
   "cell_type": "markdown",
   "metadata": {},
   "source": [
    "spam  -  0\n",
    "\n",
    "legitimate  -  1"
   ]
  }
 ],
 "metadata": {
  "kernelspec": {
   "display_name": "Python 3 (ipykernel)",
   "language": "python",
   "name": "python3"
  },
  "language_info": {
   "codemirror_mode": {
    "name": "ipython",
    "version": 3
   },
   "file_extension": ".py",
   "mimetype": "text/x-python",
   "name": "python",
   "nbconvert_exporter": "python",
   "pygments_lexer": "ipython3",
   "version": "3.11.9"
  }
 },
 "nbformat": 4,
 "nbformat_minor": 4
}
